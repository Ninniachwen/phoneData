{
 "cells": [
  {
   "cell_type": "code",
   "execution_count": null,
   "metadata": {},
   "outputs": [],
   "source": [
    "# cleans existing files of false line breaks and special characters\n",
    "# by ML\n",
    "\n",
    "import re\n",
    "\n",
    "# Input and output file paths\n",
    "input_file = '2023_GSM_raw.csv'\n",
    "output_file = '2023_GSM_parsed.csv'\n",
    "\n",
    "# Define regex pattern for valid rows: start with a number and comma\n",
    "valid_row_pattern = re.compile(r'^\\d*,')\n",
    "\n",
    "# Read and process the file\n",
    "with open(input_file, 'r', encoding='utf-8') as infile, open(output_file, 'w', encoding='utf-8') as outfile:\n",
    "    buffer = \"\"\n",
    "    for line in infile:\n",
    "        line = line.replace(\"\\n\", \"\").replace(\"\\r\", \"\").replace(\"‑\", \"-\").replace(\" \", \" \").replace(\" \", \" \").replace(\"   \", \" \").replace(\"  \", \" \")    # remove linebreaks & spec. char.\n",
    "        if valid_row_pattern.match(line):  # Line matches the pattern, it's a valid new row\n",
    "            if buffer:\n",
    "                outfile.write(buffer.strip() + \"\\n\")  # Write the previous valid row\n",
    "            buffer = line  # Start a new buffer\n",
    "        else:\n",
    "            buffer += \" \" + line.strip()  # Append invalid line to the current buffer\n",
    "\n",
    "    # Write the last buffered row if exists\n",
    "    if buffer:\n",
    "        outfile.write(buffer.strip() + \"\\n\")"
   ]
  },
  {
   "cell_type": "code",
   "execution_count": 11,
   "metadata": {},
   "outputs": [
    {
     "name": "stdout",
     "output_type": "stream",
     "text": [
      "Extracted 119 unique brands. Saved to 'unique_brands.txt'.\n"
     ]
    }
   ],
   "source": [
    "#extract list of all brands\n",
    "import pandas as pd\n",
    "import os\n",
    "\n",
    "cwd = os.getcwd()\n",
    "input_file = 'brand_links_all.txt'\n",
    "output_file = 'unique_brands.txt'\n",
    "\n",
    "df = pd.read_csv(input_file, header=None, names=['url'])\n",
    "\n",
    "\n",
    "# Extract substring between \".com/\" and \"-phones\"\n",
    "df['brand'] = df['url'].str.extract(r'\\.com\\/(.*?)\\-phones')\n",
    "\n",
    "unique_brands = df['brand'].dropna().drop_duplicates().replace('_', ' ', regex=True)  # Remove NaN values and get unique brands\n",
    "\n",
    "# Store to file\n",
    "#with open(output_csv, 'w') as f:\n",
    "#    for brand in sorted(unique_brands):\n",
    "#        f.write(f\"{brand}\\n\")\n",
    "\n",
    "unique_brands_df = unique_brands.reset_index(drop=True)  # Reset index for a clean CSV file\n",
    "unique_brands_df.to_csv(output_file, index=False, header=['Brand'])\n",
    "\n",
    "print(f\"Extracted {len(unique_brands)} unique brands. Saved to '{output_file}'.\")"
   ]
  },
  {
   "cell_type": "code",
   "execution_count": null,
   "metadata": {},
   "outputs": [],
   "source": [
    "# Seperates Name Column into brand and model\n",
    "\n",
    "import pandas as pd\n",
    "\n",
    "# Input file paths\n",
    "input_csv = '2024_GSM_ML.csv'\n",
    "brands_csv = 'brand_links_all.csv'\n",
    "\n",
    "# Load the devices and brand list\n",
    "devices_df = pd.read_csv(input_csv)\n",
    "to_split_col = 'Name'\n",
    "\n",
    "brands_df = pd.read_csv(brands_csv)\n",
    "\n",
    "# Convert brand list to a set for efficient matching\n",
    "brands = brands_df['brand'].str.lower().tolist()\n",
    "\n",
    "# Function to split name into brand and model\n",
    "def split_brand_model(name):\n",
    "    name_lower = name.lower()\n",
    "    # Find the longest matching brand in the name\n",
    "    matched_brand = max((brand for brand in brands if name_lower.startswith(brand)), key=len, default=None)\n",
    "    if matched_brand:\n",
    "        brand = matched_brand.title()  # Capitalize correctly\n",
    "        model = name[len(matched_brand):].strip()  # Remaining part of the name is the model\n",
    "        return pd.Series([brand, model])\n",
    "    else:\n",
    "        # If no brand is matched, return the full name as model with NaN for brand\n",
    "        return pd.Series([None, name])\n",
    "\n",
    "# Apply the split to the 'Name' column\n",
    "devices_df[['Brand', 'Model']] = devices_df['Name'].apply(split_brand_model)\n",
    "\n",
    "# Save the output to a new CSV\n",
    "output_csv = 'devices_with_brands.csv'\n",
    "devices_df.to_csv(output_csv, index=False)\n",
    "\n",
    "print(f\"Processed data saved to '{output_csv}'\")"
   ]
  }
 ],
 "metadata": {
  "kernelspec": {
   "display_name": ".bda",
   "language": "python",
   "name": "python3"
  },
  "language_info": {
   "codemirror_mode": {
    "name": "ipython",
    "version": 3
   },
   "file_extension": ".py",
   "mimetype": "text/x-python",
   "name": "python",
   "nbconvert_exporter": "python",
   "pygments_lexer": "ipython3",
   "version": "3.12.4"
  }
 },
 "nbformat": 4,
 "nbformat_minor": 2
}
