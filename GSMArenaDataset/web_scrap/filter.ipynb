{
 "cells": [
  {
   "cell_type": "code",
   "execution_count": 25,
   "metadata": {},
   "outputs": [],
   "source": [
    "\n",
    "# remove obvious smartwatches and tablets from links\n",
    "import re\n",
    "\n",
    "input_file = 'phone_links_with_outl.txt'\n",
    "output_file = 'phone_links.txt'\n",
    "keywords = [\"tablet\", \"watch\", \"ipad\", \"pad\"]\n",
    "\n",
    "with open(input_file, 'r') as infile, open(output_file, 'w') as outfile:\n",
    "    for line in infile:\n",
    "        if any(keyword in line.lower() for keyword in keywords):\n",
    "            line = line.replace(line, '')\n",
    "        outfile.write(line)"
   ]
  },
  {
   "cell_type": "code",
   "execution_count": 28,
   "metadata": {},
   "outputs": [
    {
     "name": "stdout",
     "output_type": "stream",
     "text": [
      "https://www.gsmarena.com/google_pixel_5-10386.php\n",
      "https://www.gsmarena.com/oneplus_9-10747.php\n",
      "https://www.gsmarena.com/xiaomi_mi_11-10656.php\n",
      "https://www.gsmarena.com/samsung_galaxy_s21_fe_5g-10954.php\n",
      "https://www.gsmarena.com/samsung_galaxy_s21_ultra_5g-10596.php\n",
      "https://www.gsmarena.com/samsung_galaxy_s21+_5g-10625.php\n",
      "https://www.gsmarena.com/samsung_galaxy_s21_5g-10626.php\n"
     ]
    }
   ],
   "source": [
    "import pandas as pd\n",
    "\n",
    "# Load URLs from the text file into a list\n",
    "with open('phone_links.txt', 'r') as file:\n",
    "    urls = file.read().splitlines()\n",
    "\n",
    "# Load the phone models CSV into a DataFrame\n",
    "models_df = pd.read_csv('user_models.txt')\n",
    "\n",
    "# Match models to URLs\n",
    "matching_urls = []\n",
    "for model in models_df['Model']:\n",
    "    # Check if the model matches any part of the URL\n",
    "    matched = [url for url in urls if model.lower().replace(\" \", \"_\")+\"-\" in url]\n",
    "    if len(matched) == 0: \n",
    "        matched = [url for url in urls if model.lower().replace(\" \", \"_\") in url]\n",
    "    if matched:\n",
    "        matching_urls.extend(matched)\n",
    "\n",
    "# save to file\n",
    "with open('scrap_urls.txt', 'w') as f:\n",
    "    for url in matching_urls:\n",
    "        print(url)\n",
    "        f.write(f\"{url}\\n\")\n",
    "\n"
   ]
  },
  {
   "cell_type": "code",
   "execution_count": 29,
   "metadata": {},
   "outputs": [
    {
     "name": "stdout",
     "output_type": "stream",
     "text": [
      "Selected 201 lines out of 4808\n"
     ]
    }
   ],
   "source": [
    "# select about 200 phones from the model list\n",
    "import math\n",
    "\n",
    "# Read all lines from the input file\n",
    "with open(\"phone_links.txt\", 'r') as f:\n",
    "    all_lines = f.readlines()\n",
    "\n",
    "\n",
    "# Calculate the step size\n",
    "total_lines = len(all_lines)\n",
    "step = math.floor(total_lines / 200)\n",
    "\n",
    "# Select lines using step size\n",
    "selected_lines = all_lines[::step]\n",
    "\n",
    "# Write selected lines to the output file\n",
    "with open(\"scrap_urls.txt\", 'a') as f:\n",
    "    f.writelines(selected_lines)\n",
    "\n",
    "print(f\"Selected {len(selected_lines)} lines out of {total_lines}\")"
   ]
  },
  {
   "cell_type": "code",
   "execution_count": null,
   "metadata": {},
   "outputs": [],
   "source": []
  }
 ],
 "metadata": {
  "kernelspec": {
   "display_name": ".bda",
   "language": "python",
   "name": "python3"
  },
  "language_info": {
   "codemirror_mode": {
    "name": "ipython",
    "version": 3
   },
   "file_extension": ".py",
   "mimetype": "text/x-python",
   "name": "python",
   "nbconvert_exporter": "python",
   "pygments_lexer": "ipython3",
   "version": "3.12.4"
  }
 },
 "nbformat": 4,
 "nbformat_minor": 2
}
