{
 "cells": [
  {
   "cell_type": "markdown",
   "id": "38cd302e",
   "metadata": {},
   "source": [
    "1. pulls Elasticsearch and Kibana Docker images (version 7.12.1) from the official Elastic Docker registry and prints the image details to confirm they were successfully downloaded."
   ]
  },
  {
   "cell_type": "code",
   "execution_count": 1,
   "id": "511836ca",
   "metadata": {},
   "outputs": [
    {
     "name": "stderr",
     "output_type": "stream",
     "text": [
      "C:\\Users\\Jessica Tran\\anaconda3\\Lib\\site-packages\\paramiko\\transport.py:219: CryptographyDeprecationWarning: Blowfish has been deprecated\n",
      "  \"class\": algorithms.Blowfish,\n"
     ]
    },
    {
     "name": "stdout",
     "output_type": "stream",
     "text": [
      "<Image: 'docker.elastic.co/elasticsearch/elasticsearch:7.12.1'>\n",
      "<Image: 'docker.elastic.co/kibana/kibana:7.12.1'>\n"
     ]
    }
   ],
   "source": [
    "import docker\n",
    "client = docker.from_env()\n",
    "\n",
    "# Pull Elasticsearch image\n",
    "image = client.images.pull('docker.elastic.co/elasticsearch/elasticsearch:7.12.1')\n",
    "print(image)\n",
    "\n",
    "# Pull Kibana image\n",
    "image = client.images.pull('docker.elastic.co/kibana/kibana:7.12.1')\n",
    "print(image)"
   ]
  },
  {
   "cell_type": "markdown",
   "id": "034cadc2",
   "metadata": {},
   "source": [
    "2.  runs an Elasticsearch container, and prints the container logs and status."
   ]
  },
  {
   "cell_type": "code",
   "execution_count": 3,
   "id": "b66ed580",
   "metadata": {},
   "outputs": [
    {
     "name": "stdout",
     "output_type": "stream",
     "text": [
      "b''\n",
      "created\n"
     ]
    }
   ],
   "source": [
    "# Create a custom network if not already created\n",
    "#client.networks.create('elastic', driver='bridge')\n",
    "\n",
    "# Run Elasticsearch container\n",
    "container = client.containers.run(\n",
    "    image='docker.elastic.co/elasticsearch/elasticsearch:7.12.1',\n",
    "    environment={'discovery.type': 'single-node'},\n",
    "    name='bda-es',\n",
    "    ports={9200: 9200, 9300: 9300},\n",
    "    network='elastic',\n",
    "    detach=True\n",
    ")\n",
    "print(container.logs())\n",
    "print(container.status)"
   ]
  },
  {
   "cell_type": "markdown",
   "id": "09af120e",
   "metadata": {},
   "source": [
    "3. open localhost:5601"
   ]
  }
 ],
 "metadata": {
  "kernelspec": {
   "display_name": "Python 3 (ipykernel)",
   "language": "python",
   "name": "python3"
  },
  "language_info": {
   "codemirror_mode": {
    "name": "ipython",
    "version": 3
   },
   "file_extension": ".py",
   "mimetype": "text/x-python",
   "name": "python",
   "nbconvert_exporter": "python",
   "pygments_lexer": "ipython3",
   "version": "3.11.5"
  }
 },
 "nbformat": 4,
 "nbformat_minor": 5
}
